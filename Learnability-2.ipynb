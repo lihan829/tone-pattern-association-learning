{
 "cells":[
  {
   "cell_type":"markdown",
   "source":[
    "# Sheet"
   ],
   "attachments":{
    
   },
   "metadata":{
    "datalore":{
     "node_id":"Sheet",
     "type":"MD",
     "hide_input_from_viewers":false,
     "hide_output_from_viewers":false,
     "sheet_delimiter":true
    }
   }
  },
  {
   "cell_type":"code",
   "source":[
    "# data import\n",
    "# Hausa dictionary data was retreived from Montreal Forced Aligner \n",
    "# https:\/\/mfa-models.readthedocs.io\/en\/latest\/g2p\/index.html#g2p\n",
    "\n",
    "f = open(\"Book1.csv\", \"r\")\n",
    "entry = []\n",
    "\n",
    "for line in f:\n",
    "    line = f.readline()\n",
    "    entry.append(line)\n",
    "\n",
    "# raw data contains:\n",
    "## IPA transcription\n",
    "## semgents\n",
    "## vowel length (u:, a:)\n",
    "## tones (˥- High; ˩-Low; ˥˦ - Falling )\n",
    "\n",
    "#Here is an example\n",
    "print(entry[:5]) "
   ],
   "execution_count":77,
   "outputs":[
    {
     "name":"stdout",
     "text":[
      "[\"'duniya,ʔ d uː˥ n ɪ˥ j ɛ˩\\n\", \"'ina,ʔ ɪ˥ n aː˩\\n\", \"'jarumai,ʔ dʒ aː˩ r ɪ˥ m aj˥\\n\", \"'wannan,ʔ w a˥ n a˥˦ ŋ\\n\", \"'yan,ʔ j a˥˦ ŋ\\n\"]\n"
     ],
     "output_type":"stream"
    }
   ],
   "metadata":{
    "datalore":{
     "node_id":"stBfcpDrHBD1DNaR5wLtiC",
     "type":"CODE",
     "hide_input_from_viewers":false,
     "hide_output_from_viewers":false,
     "report_properties":{
      "x":0,
      "y":0
     }
    }
   }
  },
  {
   "cell_type":"code",
   "source":[
    "#get each lexical items (the orthographic transcrpitions are excluded)\n",
    "\n",
    "words = []\n",
    "for item in entry:\n",
    "    item = item.replace(\" \", \"\")\n",
    "    item = item.replace(\"˥˦\", \"˦\")\n",
    "    words.append(item.split(\",\")[-1][:-1])\n",
    "\n",
    "# E.g words[0] output 'ʔduː˥nɪ˥jɛ˩'\n",
    "words[0]"
   ],
   "execution_count":87,
   "outputs":[
    {
     "data":{
      "text\/plain":[
       "'ʔduː˥nɪ˥jɛ˩'"
      ]
     },
     "metadata":{
      
     },
     "output_type":"display_data"
    }
   ],
   "metadata":{
    "datalore":{
     "node_id":"qSHjXHlNnVwi392rwRQ2mX",
     "type":"CODE",
     "hide_input_from_viewers":false,
     "hide_output_from_viewers":false,
     "report_properties":{
      "y":13
     }
    }
   }
  },
  {
   "cell_type":"code",
   "source":[
    "# the extracted \"words\" contain extra white spaces, and the F tone markers which takes two characters are causing many inconviniences. \n",
    "# the tone representations at this step is before OCP is applied\n",
    "words = []\n",
    "t1 = \"\"\n",
    "tone = []\n",
    "tones = []\n",
    "\n",
    "\n",
    "for item in entry:\n",
    "    item = item.replace(\" \", \"\")    #exclude the space between segments\n",
    "    item = item.replace(\"˥˦\", \"˦\")  #use a one-character representation for falling tones for the convinience\n",
    "    words.append(item.split(\",\")[-1][:-1])\n",
    "\n",
    "\n",
    "print(words[0]) # now it looks better :3\n"
   ],
   "execution_count":98,
   "outputs":[
    {
     "name":"stdout",
     "text":[
      "ʔduː˥nɪ˥jɛ˩\n"
     ],
     "output_type":"stream"
    }
   ],
   "metadata":{
    "datalore":{
     "node_id":"uQap8lTZEDIReMm04fzauO",
     "type":"CODE",
     "hide_input_from_viewers":false,
     "hide_output_from_viewers":false,
     "report_properties":{
      "y":21
     }
    }
   }
  },
  {
   "cell_type":"code",
   "source":[
    "\n",
    "# get the patterns of tones (before the OCP is applied)\n",
    "# Here, the symbols in the uppercase indicate a long vowel; the symbols in the lowercase a short vowel.\n",
    "# Long vowels include: monothong long vowels, diphthongs vowels (ended with aw, aj)\n",
    "# Since Falling tones can only occur on long vowels, hence the uppercase is used for F\n",
    "\n",
    "for item in words:\n",
    "    t1 = \"\"\n",
    "    for i in range(len(item)):\n",
    "        if item[i] == \"˩\":\n",
    "            if item[i - 1] in [\"ː\", \"j\", \"w\"]: \n",
    "                t1 = t1 + \"L\" \n",
    "            else:\n",
    "                t1 = t1 + \"l\"\n",
    "        elif item[i] == \"˥\":\n",
    "            if item[i - 1] in [\"ː\", \"j\", \"w\"]:\n",
    "                t1 = t1 + \"H\"\n",
    "            else:\n",
    "                t1 = t1 + \"h\"\n",
    "        if item[i] == \"˦\":\n",
    "            t1 = t1 + \"F\"\n",
    "    tones.append(t1)\n",
    "\n",
    "\n",
    "print(tones[0])\n",
    "\n",
    "# the tone sequence for ʔduː˥nɪ˥jɛ˩ is HhL. More specifically:\n",
    "## the word contains three syllables\n",
    "## syllable 1 is associated with H tone on a long vowel\n",
    "## Syllable 2 is associated with h tone on a short vowel\n",
    "## Syllable 3 is associated with l tone on a short vowel"
   ],
   "execution_count":100,
   "outputs":[
    {
     "name":"stdout",
     "text":[
      "Hhl\n"
     ],
     "output_type":"stream"
    }
   ],
   "metadata":{
    "datalore":{
     "node_id":"uRav6ShrxtAoGdn08RRxHl",
     "type":"CODE",
     "hide_input_from_viewers":true,
     "hide_output_from_viewers":true
    }
   }
  },
  {
   "cell_type":"code",
   "source":[
    "# for a brief display of the data so far\n",
    "\n",
    "for n in range(20):\n",
    "    print(words[n], \"\\t\", tones[n])"
   ],
   "execution_count":5,
   "outputs":[
    {
     "name":"stdout",
     "text":[
      "ʔduː˥nɪ˥jɛ˩ \t Hhl\n",
      "ʔɪ˥naː˩ \t hL\n",
      "ʔdʒaː˩rɪ˥maj˥ \t LhH\n",
      "ʔwa˥na˦ŋ \t hF\n",
      "ʔja˦ŋ \t F\n",
      "ʔja˥ntʃɪ˩ŋ \t hl\n",
      "j̰ɛ˥r \t h\n",
      "ʔzaː˩ \t L\n",
      "ʔa˩ \t l\n",
      "ʔaː˥ʔɪ˩ʃə˥tɪ˩ \t Hlhl\n",
      "ʔaː˩baː˩tʃaː˩daː˦ \t LLLF\n",
      "ʔa˩ba˩r \t ll\n",
      "ʔa˥bdɪ˩ \t hl\n",
      "ʔa˩bdɪ˩laː˩ \t llL\n",
      "ʔa˩bdɪ˩laː˥hɪ˩aː˩ \t llHlL\n",
      "ʔa˩bdɪ˩rə˩hɪ˦ŋ \t lllF\n",
      "ʔa˩bɪ˩ŋ \t ll\n",
      "ʔa˩biː˩ntʃɪ˩ŋ \t lLl\n",
      "ʔa˥bdʒə˩diː˥ \t hlH\n",
      "ʔa˩boː˥kaj˥ \t lHH\n"
     ],
     "output_type":"stream"
    }
   ],
   "metadata":{
    "datalore":{
     "node_id":"ZWOsvFHPymn3FFm8ea0QKR",
     "type":"CODE",
     "hide_input_from_viewers":false,
     "hide_output_from_viewers":false,
     "report_properties":{
      "y":33
     }
    }
   }
  },
  {
   "cell_type":"code",
   "source":[
    "# Get the number of syllables in each lexical item\n",
    "\n",
    "syllables = [] # create a empty list for storing all syllable info of the dict\n",
    "for tone in tones:\n",
    "    sylnum = len(tone)\n",
    "    syllables.append(sylnum) \n",
    "\n",
    "print(\"The word \", words[0],\" has\", syllables[0] ,\"syllables\", \"with a\",tones[0], \"tone sequence\") \n",
    "#The word  ʔduː˥nɪ˥jɛ˩  has 3 syllables with a Hhl tone sequence\n",
    "\n",
    "\n",
    "#Get the number of moras in each syllable\n",
    "\n",
    "\n",
    "moralist = []\n",
    "moraslist = []\n",
    "morassum = []\n",
    "\n",
    "for tone in tones: # for hHL\n",
    "    moralist = []\n",
    "    for i in tone:  #for h in hL\n",
    "        moranum = 0 # moranum is a tally of mora number in each syllable\n",
    "        if i in [\"h\", \"l\"]: #if the vowel is short, then the the vowel only contributes to 1 mora to the syllable\n",
    "            moranum = moranum + 1\n",
    "        else:\n",
    "            moranum = moranum + 2 #if the vowel is long, then the the vowel contributes to 2 moras \n",
    "        moralist.append(moranum) # a list of mora numbers of each syllable\n",
    "        morasum = sum(moralist) # the sum of mora in each lexical word\n",
    "    moraslist.append(moralist)\n",
    "    morassum.append(morasum)\n",
    "\n",
    "print(words[0], tones[0], moraslist[0], morassum[0]) \n",
    "\n",
    "#Hhl [2, 1, 1] 4 \n",
    "# 3-syllable word\n",
    "#syl1 - 2 mora \n",
    "#syl2 - 1 mora\n",
    "#syl3 - 1 mora\n",
    "#total mora num = 4\n",
    "\n"
   ],
   "execution_count":117,
   "outputs":[
    {
     "name":"stdout",
     "text":[
      "The word  ʔduː˥nɪ˥jɛ˩  has 3 syllables with a Hhl tone sequence\n",
      "ʔduː˥nɪ˥jɛ˩ Hhl [2, 1, 1] 4\n"
     ],
     "output_type":"stream"
    }
   ],
   "metadata":{
    "datalore":{
     "node_id":"stM5JE6adWyGjwsAeaWSf6",
     "type":"CODE",
     "hide_input_from_viewers":false,
     "hide_output_from_viewers":false,
     "report_properties":{
      "y":47
     }
    }
   }
  },
  {
   "cell_type":"code",
   "source":[
    "\n",
    "# Now we need to apply OCP rules to the tone sequences\n",
    "# After the OCP - all tone symbols are in uppercase\n",
    "# The tones after the ocp rules are named \"newtones\" - sounds like Newton...\n",
    "#For example, hHl --> HL; Llh -->LH; lHl-->LHL\n",
    "\n",
    "\n",
    "newtones = []\n",
    "for tone in tones:\n",
    "    tone = tone.upper()\n",
    "    i = 0\n",
    "    newtone = ' '\n",
    "    while i < len(tone):\n",
    "        if tone[i] != newtone[-1]: #fixme: i think there are some index error going on here since all newtones will have an extra space at the beginning \n",
    "            newtone = newtone + tone[i]\n",
    "        else:\n",
    "            newtone = newtone\n",
    "            #   print(\"stop\")\n",
    "        i = i + 1\n",
    "        #print(i,newtone)\n",
    "        #  print(newtone)\n",
    "\n",
    "    newtones.append(newtone)\n",
    "\n",
    "list = []\n",
    "for i in newtones:\n",
    "    item = i.replace(\" \", \"\") # did a workaround to fix the space - but should change it later \n",
    "    list.append(item)\n",
    "\n",
    "print(\"tones are\", tones[:10])\n",
    "print(\"newtones are\", list[:10])\n",
    "\n",
    "#tones are ['Hhl', 'hL', 'LhH', 'hF', 'F', 'hl', 'h', 'L', 'l', 'Hlhl'] before ocp\n",
    "#newtones are ['HL', 'HL', 'LH', 'HF', 'F', 'HL', 'H', 'L', 'L', 'HLHL']after ocp\n"
   ],
   "execution_count":119,
   "outputs":[
    {
     "name":"stdout",
     "text":[
      "tones are ['Hhl', 'hL', 'LhH', 'hF', 'F', 'hl', 'h', 'L', 'l', 'Hlhl']\n",
      "newtones are ['HL', 'HL', 'LH', 'HF', 'F', 'HL', 'H', 'L', 'L', 'HLHL']\n"
     ],
     "output_type":"stream"
    }
   ],
   "metadata":{
    "datalore":{
     "node_id":"XPJajUANmKFR0awqUR9Nsp",
     "type":"CODE",
     "hide_input_from_viewers":false,
     "hide_output_from_viewers":false,
     "report_properties":{
      "y":70
     }
    }
   }
  },
  {
   "cell_type":"code",
   "source":[
    "# establish syllable-mora association\n",
    "## for the word ʔja˥ntʃɪ˩ŋ the syllable-mora association is [(1, 1), (2, 2)]\n",
    "## for the word ʔduː˥nɪ˥jɛ˩ the syllable-mora association is [(1, 1), (1, 2), (2, 3), (3, 4)]\n",
    "\n",
    "syl_mora_list = []\n",
    "for n in range(len(words)):\n",
    "    syl_mora = []\n",
    "    #print(\"for words\",n,\"is\",words[n])\n",
    "    m = 1\n",
    "    for i in range(syllables[n]):  # (0 ,1, 2 3 \n",
    "        #print(\"i=\", i)\n",
    "        p = 1\n",
    "        while p <= moraslist[n][i]:  #1<=2 2 <= 2 1<=1\n",
    "            syl_mora.append((i + 1, m))  #(1,1) (1,2) (2,1)\n",
    "            #print(\"syl_mora = \",syl_mora)\n",
    "            #print(i+1,m)\n",
    "            p += 1\n",
    "            m += 1\n",
    "    syl_mora_list.append(syl_mora)\n",
    "    #print(\"syl_mora_list\",syl_mora_list)\n",
    "\n",
    "print(\"for the word\", words[0], \"the syllable-mora association is\", syl_mora_list[0])"
   ],
   "execution_count":125,
   "outputs":[
    {
     "name":"stdout",
     "text":[
      "for the word ʔduː˥nɪ˥jɛ˩ the syllable-mora association is [(1, 1), (1, 2), (2, 3), (3, 4)]\n"
     ],
     "output_type":"stream"
    }
   ],
   "metadata":{
    "datalore":{
     "node_id":"NIYUAVLc7MzYGlP7CWbi3k",
     "type":"CODE",
     "hide_input_from_viewers":false,
     "hide_output_from_viewers":false,
     "report_properties":{
      "y":90
     }
    }
   }
  },
  {
   "cell_type":"code",
   "source":[
    "# establish tone(before ocp applied)-syllable association\n",
    "#(maybe there is a better to establish the association with tones after ocp - will consider this later)\n",
    "\n",
    "# for the word ʔja˥ntʃɪ˩ŋ the syllable-mora association is [(1, 1), (2, 2)]\n",
    "# for the word ʔduː˥nɪ˥jɛ˩ the syllable-mora association is [(1, 1), (1, 2), (2, 3), (3, 4)]\n",
    "\n",
    "t_syl_list = []\n",
    "for n in range(len(words)):\n",
    "    #print(words[n], tones[n], newtones[n])\n",
    "    t_syl = []\n",
    "    m = 0\n",
    "    for j in range(1, len(newtones[n])):  # 0 1 2\n",
    "        #print(tones[n][m],newtones[n][j])\n",
    "        while tones[n][m].upper() == newtones[n][j]:  #h->(H) == H\n",
    "            t_syl.append((j, m + 1))\n",
    "            #print(t_syl)\n",
    "            m += 1\n",
    "            if m == len(tones[n]):\n",
    "                break\n",
    "        #if tones[n][-1] in [\"H\",\"L\"]:\n",
    "        #   t_syl.append((j,m+2)) \n",
    "        #print(newtones[n][j])\n",
    "    t_syl_list.append(t_syl)\n",
    "\n",
    "print(words[:2],tones[:2],t_syl_list[:2])\n",
    "\n",
    "\n",
    "#!!!!! One problem here is for hL, the output is [(1, 1), (2, 2)] which is incorrect.\n",
    "# the correct answer is [(1, 1), (2, 2),(2, 3)]\n",
    "# I haven't fixed this yet\n",
    "# fixme "
   ],
   "execution_count":126,
   "outputs":[
    {
     "name":"stdout",
     "text":[
      "['ʔduː˥nɪ˥jɛ˩', 'ʔɪ˥naː˩'] ['Hhl', 'hL'] [[(1, 1), (1, 2), (2, 3)], [(1, 1), (2, 2)]]\n"
     ],
     "output_type":"stream"
    }
   ],
   "metadata":{
    "datalore":{
     "node_id":"HV5FtrfbuAmYSMpYgnoCFA",
     "type":"CODE",
     "hide_input_from_viewers":false,
     "hide_output_from_viewers":false,
     "report_properties":{
      "y":104
     }
    }
   }
  },
  {
   "cell_type":"code",
   "source":[
    "#All information about a lexical item \n",
    "\n",
    "for n in range(2):\n",
    "    print(words[n], \"\\t\", tones[n], \"\\t\", list[n], \"\\t\", syllables[n], \"\\t\", moraslist[n], \"\\t\",\n",
    "          morassum[n], \"\\t\", t_syl_list[n], '\\t', syl_mora_list[n])\n",
    "    \n",
    "\n",
    "# I tried to create a class but haven't figured it out very clearly\n",
    "# Will try the class object method later\n",
    "\n",
    "class Pattern:\n",
    "    def __init__(self, tone, newtone, tsig, sigmu):\n",
    "        self.tone = tone\n",
    "        self.newtone = newtone\n",
    "        self.tsig = tsig\n",
    "        self.sigmu = sigmu\n",
    "p1 = Pattern(tones[0],list[0],t_syl_list[0],syl_mora_list[0])\n",
    "\n",
    "p1.tone\n",
    "p1.newtone\n",
    "p1.tsig\n",
    "\n"
   ],
   "execution_count":137,
   "outputs":[
    {
     "name":"stdout",
     "text":[
      "ʔduː˥nɪ˥jɛ˩ \t Hhl \t HL \t 3 \t [2, 1, 1] \t 4 \t [(1, 1), (1, 2), (2, 3)] \t [(1, 1), (1, 2), (2, 3), (3, 4)]\n",
      "ʔɪ˥naː˩ \t hL \t HL \t 2 \t [1, 2] \t 3 \t [(1, 1), (2, 2)] \t [(1, 1), (2, 2), (2, 3)]\n"
     ],
     "output_type":"stream"
    },
    {
     "data":{
      "text\/plain":[
       "[(1, 1), (1, 2), (2, 3)]"
      ]
     },
     "metadata":{
      
     },
     "output_type":"display_data"
    }
   ],
   "metadata":{
    "datalore":{
     "node_id":"Hc8Ca2Uz8LIidUvh8qbxab",
     "type":"CODE",
     "hide_input_from_viewers":false,
     "hide_output_from_viewers":false,
     "report_properties":{
      "y":122
     }
    }
   }
  },
  {
   "cell_type":"markdown",
   "source":[
    "# Sheet 2"
   ],
   "attachments":{
    
   },
   "metadata":{
    "datalore":{
     "node_id":"Sheet 2",
     "type":"MD",
     "hide_input_from_viewers":false,
     "hide_output_from_viewers":false,
     "sheet_delimiter":true
    }
   }
  },
  {
   "cell_type":"code",
   "source":[
    
   ],
   "execution_count":null,
   "outputs":[
    
   ],
   "metadata":{
    "datalore":{
     "node_id":"2XDIomud7Xa3gWHqa3F0f3",
     "type":"CODE",
     "hide_input_from_viewers":true,
     "hide_output_from_viewers":true
    }
   }
  }
 ],
 "metadata":{
  "kernelspec":{
   "display_name":"Python",
   "language":"python",
   "name":"python"
  },
  "datalore":{
   "version":1,
   "computation_mode":"JUPYTER",
   "package_manager":"pip",
   "base_environment":"default",
   "packages":[
    {
     "name":"tone-pattern-association-learning",
     "version":"main",
     "url":"https:\/\/github.com\/lihan829\/tone-pattern-association-learning@main",
     "source":"GIT"
    }
   ]
  }
 },
 "nbformat":4,
 "nbformat_minor":4
}